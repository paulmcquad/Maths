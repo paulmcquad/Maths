{
 "cells": [
  {
   "cell_type": "code",
   "execution_count": 2,
   "metadata": {},
   "outputs": [],
   "source": [
    "from sympy import *\n",
    "x, y, z = symbols('x y z')\n",
    "init_printing(use_unicode=True)"
   ]
  },
  {
   "cell_type": "markdown",
   "metadata": {},
   "source": [
    "# Chapter 5 - Page 1\n",
    "# Calculus / Change"
   ]
  },
  {
   "cell_type": "markdown",
   "metadata": {},
   "source": [
    "__Differentiation:__\n",
    "When we differentiate a function we get another function as the answer, called\n",
    "the __derivative__ or __rate of change__ of the original function. We indicate that we have differentiated\n",
    "a function in one of two ways. If we denote the input into the function by the letter x, then we indicate that we have differentiated the function by writing \n",
    "\n",
    "\\begin{equation*}\n",
    "\\mbox{} \\frac{d}{dx}\n",
    "\\end{equation*}\n",
    "        \n",
    "before it. Alternatively we can write a dash (called “prime\") after the function. A function that can be differentiated is called\n",
    "__differentiable__.\n",
    "\n",
    "There are many functions which we can differentiate using only the following table of\n",
    "derivatives:"
   ]
  },
  {
   "cell_type": "code",
   "execution_count": 3,
   "metadata": {},
   "outputs": [
    {
     "data": {
      "image/png": "[encoded data removed]",
      "text/latex": [
       "$$\\cos{\\left (x \\right )}$$"
      ],
      "text/plain": [
       "cos(x)"
      ]
     },
     "execution_count": 3,
     "metadata": {},
     "output_type": "execute_result"
    }
   ],
   "source": [
    "diff(sin(x), x)"
   ]
  },
  {
   "cell_type": "code",
   "execution_count": 4,
   "metadata": {},
   "outputs": [
    {
     "data": {
      "image/png": "[encoded data removed]",
      "text/latex": [
       "$$2 x e^{x^{2}}$$"
      ],
      "text/plain": [
       "     ⎛ 2⎞\n",
       "     ⎝x ⎠\n",
       "2⋅x⋅ℯ    "
      ]
     },
     "execution_count": 4,
     "metadata": {},
     "output_type": "execute_result"
    }
   ],
   "source": [
    "diff(exp(x**2), x)"
   ]
  },
  {
   "cell_type": "code",
   "execution_count": 5,
   "metadata": {},
   "outputs": [
    {
     "data": {
      "image/png": "[encoded data removed]",
      "text/latex": [
       "$$7 x^{6}$$"
      ],
      "text/plain": [
       "   6\n",
       "7⋅x "
      ]
     },
     "execution_count": 5,
     "metadata": {},
     "output_type": "execute_result"
    }
   ],
   "source": [
    "diff((x**7), x)"
   ]
  },
  {
   "cell_type": "code",
   "execution_count": 6,
   "metadata": {},
   "outputs": [
    {
     "data": {
      "image/png": "[encoded data removed]",
      "text/latex": [
       "$$\\frac{1}{2 \\sqrt{x}}$$"
      ],
      "text/plain": [
       " 1  \n",
       "────\n",
       "2⋅√x"
      ]
     },
     "execution_count": 6,
     "metadata": {},
     "output_type": "execute_result"
    }
   ],
   "source": [
    "diff(sqrt(x) ,x)"
   ]
  },
  {
   "cell_type": "code",
   "execution_count": 7,
   "metadata": {},
   "outputs": [
    {
     "data": {
      "image/png": "[encoded data removed]",
      "text/latex": [
       "$$\\frac{d}{d x} \\left ( \\sqrt{x}, \\quad x\\right )$$"
      ],
      "text/plain": [
       "d          \n",
       "──((√x, x))\n",
       "dx         "
      ]
     },
     "execution_count": 7,
     "metadata": {},
     "output_type": "execute_result"
    }
   ],
   "source": [
    "diff((sqrt(x) ,x))"
   ]
  }
 ],
 "metadata": {
  "kernelspec": {
   "display_name": "Python 3",
   "language": "python",
   "name": "python3"
  },
  "language_info": {
   "codemirror_mode": {
    "name": "ipython",
    "version": 3
   },
   "file_extension": ".py",
   "mimetype": "text/x-python",
   "name": "python",
   "nbconvert_exporter": "python",
   "pygments_lexer": "ipython3",
   "version": "3.7.2"
  }
 },
 "nbformat": 4,
 "nbformat_minor": 2
}
