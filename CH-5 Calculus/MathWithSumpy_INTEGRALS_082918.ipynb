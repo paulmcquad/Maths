{
 "cells": [
  {
   "cell_type": "markdown",
   "metadata": {},
   "source": [
    "## Just about any Integral !!!\n",
    "###  Definite and Indefinite\n",
    " \n",
    " - Derivative of one dimensional variable\n",
    " - Derivative of multimensional variable\n",
    " \n",
    " #### If integrate function is unable to compute an integral, it returns an unevaluated Integral object\n"
   ]
  },
  {
   "cell_type": "code",
   "execution_count": 2,
   "metadata": {
    "collapsed": true
   },
   "outputs": [],
   "source": [
    "from sympy import *\n",
    "init_printing()"
   ]
  },
  {
   "cell_type": "code",
   "execution_count": 3,
   "metadata": {
    "collapsed": false
   },
   "outputs": [],
   "source": [
    "x, y, z = symbols(\"x, y, z\")"
   ]
  },
  {
   "cell_type": "code",
   "execution_count": 4,
   "metadata": {
    "collapsed": true
   },
   "outputs": [],
   "source": [
    "a, b,c,d = symbols ('a b c d')"
   ]
  },
  {
   "cell_type": "markdown",
   "metadata": {},
   "source": [
    "### Simple One Dimension  -- Indefinite Integral"
   ]
  },
  {
   "cell_type": "code",
   "execution_count": 5,
   "metadata": {
    "collapsed": false
   },
   "outputs": [
    {
     "data": {
      "image/png": "[encoded data removed]",
      "text/latex": [
       "$$\\int x^{3}\\, dx$$"
      ],
      "text/plain": [
       "⌠      \n",
       "⎮  3   \n",
       "⎮ x  dx\n",
       "⌡      "
      ]
     },
     "execution_count": 5,
     "metadata": {},
     "output_type": "execute_result"
    }
   ],
   "source": [
    "Integral ( x **3 , x )"
   ]
  },
  {
   "cell_type": "code",
   "execution_count": 6,
   "metadata": {
    "collapsed": false
   },
   "outputs": [
    {
     "data": {
      "image/png": "[encoded data removed]",
      "text/latex": [
       "$$\\frac{x^{4}}{4}$$"
      ],
      "text/plain": [
       " 4\n",
       "x \n",
       "──\n",
       "4 "
      ]
     },
     "execution_count": 6,
     "metadata": {},
     "output_type": "execute_result"
    }
   ],
   "source": [
    "integrate ( x **3 , x )"
   ]
  },
  {
   "cell_type": "code",
   "execution_count": 7,
   "metadata": {
    "collapsed": false
   },
   "outputs": [
    {
     "data": {
      "image/png": "[encoded data removed]",
      "text/latex": [
       "$$\\int \\log{\\left (x \\right )}\\, dx$$"
      ],
      "text/plain": [
       "⌠          \n",
       "⎮ log(x) dx\n",
       "⌡          "
      ]
     },
     "execution_count": 7,
     "metadata": {},
     "output_type": "execute_result"
    }
   ],
   "source": [
    " Integral ( ln (x ), x )"
   ]
  },
  {
   "cell_type": "code",
   "execution_count": 8,
   "metadata": {
    "collapsed": false
   },
   "outputs": [
    {
     "data": {
      "image/png": "[encoded data removed]",
      "text/latex": [
       "$$\\int \\sin^{2}{\\left (x \\right )}\\, dx$$"
      ],
      "text/plain": [
       "⌠           \n",
       "⎮    2      \n",
       "⎮ sin (x) dx\n",
       "⌡           "
      ]
     },
     "execution_count": 8,
     "metadata": {},
     "output_type": "execute_result"
    }
   ],
   "source": [
    "Integral(sin(x)**2)"
   ]
  },
  {
   "cell_type": "code",
   "execution_count": 23,
   "metadata": {
    "collapsed": false
   },
   "outputs": [
    {
     "data": {
      "image/png": "[encoded data removed]",
      "text/latex": [
       "$$\\frac{x}{2} - \\frac{1}{2} \\sin{\\left (x \\right )} \\cos{\\left (x \\right )}$$"
      ],
      "text/plain": [
       "x   sin(x)⋅cos(x)\n",
       "─ - ─────────────\n",
       "2         2      "
      ]
     },
     "execution_count": 23,
     "metadata": {},
     "output_type": "execute_result"
    }
   ],
   "source": [
    "integrate(sin(x)**2)"
   ]
  },
  {
   "cell_type": "code",
   "execution_count": 9,
   "metadata": {
    "collapsed": false
   },
   "outputs": [
    {
     "data": {
      "image/png": "[encoded data removed]",
      "text/latex": [
       "$$x \\log{\\left (x \\right )} - x$$"
      ],
      "text/plain": [
       "x⋅log(x) - x"
      ]
     },
     "execution_count": 9,
     "metadata": {},
     "output_type": "execute_result"
    }
   ],
   "source": [
    " integrate ( ln (x ), x )"
   ]
  },
  {
   "cell_type": "markdown",
   "metadata": {},
   "source": [
    "### Simple One Dimension  -- Definite Integral\n",
    "#### Note that complex integrals take a while to run"
   ]
  },
  {
   "cell_type": "code",
   "execution_count": 10,
   "metadata": {
    "collapsed": false
   },
   "outputs": [
    {
     "data": {
      "image/png": "[encoded data removed]",
      "text/latex": [
       "$$\\int_{0}^{1} x^{3}\\, dx$$"
      ],
      "text/plain": [
       "1      \n",
       "⌠      \n",
       "⎮  3   \n",
       "⎮ x  dx\n",
       "⌡      \n",
       "0      "
      ]
     },
     "execution_count": 10,
     "metadata": {},
     "output_type": "execute_result"
    }
   ],
   "source": [
    " Integral ( x **3 , (x , 0 , 1))"
   ]
  },
  {
   "cell_type": "code",
   "execution_count": 11,
   "metadata": {
    "collapsed": false
   },
   "outputs": [
    {
     "data": {
      "image/png": "[encoded data removed]",
      "text/latex": [
       "$$\\frac{1}{4}$$"
      ],
      "text/plain": [
       "1/4"
      ]
     },
     "execution_count": 11,
     "metadata": {},
     "output_type": "execute_result"
    }
   ],
   "source": [
    " integrate ( x **3 , (x , 0 , 1))"
   ]
  },
  {
   "cell_type": "code",
   "execution_count": 12,
   "metadata": {
    "collapsed": false
   },
   "outputs": [
    {
     "data": {
      "image/png": "[encoded data removed]",
      "text/latex": [
       "$$\\int x^{2} e^{x} \\cos{\\left (x \\right )}\\, dx$$"
      ],
      "text/plain": [
       "⌠                \n",
       "⎮  2  x          \n",
       "⎮ x ⋅ℯ ⋅cos(x) dx\n",
       "⌡                "
      ]
     },
     "execution_count": 12,
     "metadata": {},
     "output_type": "execute_result"
    }
   ],
   "source": [
    "Integral(x**2 * exp(x) * cos(x), x)"
   ]
  },
  {
   "cell_type": "code",
   "execution_count": 13,
   "metadata": {
    "collapsed": false
   },
   "outputs": [
    {
     "data": {
      "image/png": "[encoded data removed]",
      "text/latex": [
       "$$\\frac{x^{2} e^{x}}{2} \\sin{\\left (x \\right )} + \\frac{x^{2} e^{x}}{2} \\cos{\\left (x \\right )} - x e^{x} \\sin{\\left (x \\right )} + \\frac{e^{x}}{2} \\sin{\\left (x \\right )} - \\frac{e^{x}}{2} \\cos{\\left (x \\right )}$$"
      ],
      "text/plain": [
       " 2  x           2  x                         x           x       \n",
       "x ⋅ℯ ⋅sin(x)   x ⋅ℯ ⋅cos(x)      x          ℯ ⋅sin(x)   ℯ ⋅cos(x)\n",
       "──────────── + ──────────── - x⋅ℯ ⋅sin(x) + ───────── - ─────────\n",
       "     2              2                           2           2    "
      ]
     },
     "execution_count": 13,
     "metadata": {},
     "output_type": "execute_result"
    }
   ],
   "source": [
    "integrate(x**2 * exp(x) * cos(x), x)"
   ]
  },
  {
   "cell_type": "code",
   "execution_count": 14,
   "metadata": {
    "collapsed": false
   },
   "outputs": [
    {
     "data": {
      "image/png": "[encoded data removed]",
      "text/latex": [
       "$$\\int e^{- x^{2}} \\operatorname{erf}{\\left (x \\right )}\\, dx$$"
      ],
      "text/plain": [
       "⌠               \n",
       "⎮    2          \n",
       "⎮  -x           \n",
       "⎮ ℯ   ⋅erf(x) dx\n",
       "⌡               "
      ]
     },
     "execution_count": 14,
     "metadata": {},
     "output_type": "execute_result"
    }
   ],
   "source": [
    "Integral(exp(-x**2)*erf(x),x)"
   ]
  },
  {
   "cell_type": "code",
   "execution_count": 15,
   "metadata": {
    "collapsed": false
   },
   "outputs": [
    {
     "data": {
      "image/png": "[encoded data removed]",
      "text/latex": [
       "$$\\frac{\\sqrt{\\pi}}{4} \\operatorname{erf}^{2}{\\left (x \\right )}$$"
      ],
      "text/plain": [
       "      2   \n",
       "√π⋅erf (x)\n",
       "──────────\n",
       "    4     "
      ]
     },
     "execution_count": 15,
     "metadata": {},
     "output_type": "execute_result"
    }
   ],
   "source": [
    "integrate(exp(-x**2)*erf(x),x)"
   ]
  },
  {
   "cell_type": "markdown",
   "metadata": {},
   "source": [
    "### Transforms -- Laplace and Fourier"
   ]
  },
  {
   "cell_type": "code",
   "execution_count": 16,
   "metadata": {
    "collapsed": false
   },
   "outputs": [
    {
     "data": {
      "image/png": "[encoded data removed]",
      "text/latex": [
       "$$\\left ( \\frac{s^{- a}}{s} \\Gamma{\\left(a + 1 \\right)}, \\quad 0, \\quad - \\Re{a} < 1\\right )$$"
      ],
      "text/plain": [
       "⎛ -a                        ⎞\n",
       "⎜s  ⋅Γ(a + 1)               ⎟\n",
       "⎜────────────, 0, -re(a) < 1⎟\n",
       "⎝     s                     ⎠"
      ]
     },
     "execution_count": 16,
     "metadata": {},
     "output_type": "execute_result"
    }
   ],
   "source": [
    "from sympy.integrals import laplace_transform\n",
    "from sympy.abc import t,s,a\n",
    "laplace_transform(t**a, t, s)"
   ]
  },
  {
   "cell_type": "code",
   "execution_count": 17,
   "metadata": {
    "collapsed": false
   },
   "outputs": [
    {
     "data": {
      "image/png": "[encoded data removed]",
      "text/latex": [
       "$$\\sqrt{\\pi} e^{- \\pi^{2} k^{2}}$$"
      ],
      "text/plain": [
       "      2  2\n",
       "    -π ⋅k \n",
       "√π⋅ℯ      "
      ]
     },
     "execution_count": 17,
     "metadata": {},
     "output_type": "execute_result"
    }
   ],
   "source": [
    "from sympy import fourier_transform, exp\n",
    "from sympy.abc import x, k\n",
    "fourier_transform(exp(-x**2), x, k)"
   ]
  },
  {
   "cell_type": "markdown",
   "metadata": {},
   "source": [
    "### Multiple Integrals"
   ]
  },
  {
   "cell_type": "code",
   "execution_count": 18,
   "metadata": {
    "collapsed": false
   },
   "outputs": [
    {
     "data": {
      "image/png": "[encoded data removed]",
      "text/latex": [
       "$$\\int_{22}^{30}\\int_{20}^{x - 2} x^{2} + y^{2}\\, dy\\, dx$$"
      ],
      "text/plain": [
       "30 x - 2                \n",
       "⌠    ⌠                  \n",
       "⎮    ⎮   ⎛ 2    2⎞      \n",
       "⎮    ⎮   ⎝x  + y ⎠ dy dx\n",
       "⌡    ⌡                  \n",
       "22   20                 "
      ]
     },
     "execution_count": 18,
     "metadata": {},
     "output_type": "execute_result"
    }
   ],
   "source": [
    "f = (x ** 2 + y ** 2)\n",
    "Integral(f, (y, 20, x-2), (x, 22, 30))"
   ]
  },
  {
   "cell_type": "code",
   "execution_count": 19,
   "metadata": {
    "collapsed": false
   },
   "outputs": [
    {
     "data": {
      "image/png": "[encoded data removed]",
      "text/latex": [
       "$$\\frac{x^{3} y}{3} + \\frac{x y^{3}}{3}$$"
      ],
      "text/plain": [
       " 3        3\n",
       "x ⋅y   x⋅y \n",
       "──── + ────\n",
       " 3      3  "
      ]
     },
     "execution_count": 19,
     "metadata": {},
     "output_type": "execute_result"
    }
   ],
   "source": [
    "integrate(f, y,x)"
   ]
  },
  {
   "cell_type": "code",
   "execution_count": 20,
   "metadata": {
    "collapsed": false
   },
   "outputs": [
    {
     "data": {
      "image/png": "[encoded data removed]",
      "text/latex": [
       "$$40576$$"
      ],
      "text/plain": [
       "40576"
      ]
     },
     "execution_count": 20,
     "metadata": {},
     "output_type": "execute_result"
    }
   ],
   "source": [
    "integrate(f, (y, 20, x-2), (x, 22, 30))"
   ]
  },
  {
   "cell_type": "code",
   "execution_count": 21,
   "metadata": {
    "collapsed": false
   },
   "outputs": [
    {
     "data": {
      "image/png": "[encoded data removed]",
      "text/latex": [
       "$$\\iiint x^{2} + y^{2} + z^{2}\\, dy\\, dx\\, dz$$"
      ],
      "text/plain": [
       "⌠ ⌠ ⌠                        \n",
       "⎮ ⎮ ⎮ ⎛ 2    2    2⎞         \n",
       "⎮ ⎮ ⎮ ⎝x  + y  + z ⎠ dy dx dz\n",
       "⌡ ⌡ ⌡                        "
      ]
     },
     "execution_count": 21,
     "metadata": {},
     "output_type": "execute_result"
    }
   ],
   "source": [
    "f = (x ** 2 + y ** 2+ z**2)\n",
    "Integral(f, y,x,z)"
   ]
  },
  {
   "cell_type": "code",
   "execution_count": 22,
   "metadata": {
    "collapsed": false
   },
   "outputs": [
    {
     "data": {
      "image/png": "[encoded data removed]",
      "text/latex": [
       "$$\\frac{x^{3} y}{3} + x \\left(\\frac{y^{3}}{3} + y z^{2}\\right)$$"
      ],
      "text/plain": [
       " 3       ⎛ 3       ⎞\n",
       "x ⋅y     ⎜y       2⎟\n",
       "──── + x⋅⎜── + y⋅z ⎟\n",
       " 3       ⎝3        ⎠"
      ]
     },
     "execution_count": 22,
     "metadata": {},
     "output_type": "execute_result"
    }
   ],
   "source": [
    "f = (x ** 2 + y ** 2+ z**2)\n",
    "integrate(f, y,x)"
   ]
  }
 ],
 "metadata": {
  "anaconda-cloud": {},
  "kernelspec": {
   "display_name": "Python [conda env:Anaconda3]",
   "language": "python",
   "name": "conda-env-Anaconda3-py"
  },
  "language_info": {
   "codemirror_mode": {
    "name": "ipython",
    "version": 3
   },
   "file_extension": ".py",
   "mimetype": "text/x-python",
   "name": "python",
   "nbconvert_exporter": "python",
   "pygments_lexer": "ipython3",
   "version": "3.5.2"
  }
 },
 "nbformat": 4,
 "nbformat_minor": 2
}
