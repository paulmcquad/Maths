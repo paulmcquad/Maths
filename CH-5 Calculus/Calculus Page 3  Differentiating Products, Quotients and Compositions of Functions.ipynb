{
 "cells": [
  {
   "cell_type": "code",
   "execution_count": 20,
   "metadata": {},
   "outputs": [],
   "source": [
    "from sympy import *\n",
    "t, x, y, z = symbols('t x y z')\n",
    "init_printing(use_unicode=True)"
   ]
  },
  {
   "cell_type": "markdown",
   "metadata": {},
   "source": [
    "# Differentiating Products, Quotients and Compositions of Functions\n",
    "\n",
    "## Product Rule of Differentiating: for differentiable functions f and g\n",
    "\n",
    "$$(fg)'=f'g+fg'$$"
   ]
  },
  {
   "cell_type": "code",
   "execution_count": 21,
   "metadata": {},
   "outputs": [
    {
     "data": {
      "image/png": "[encoded data removed]",
      "text/latex": [
       "$$- \\sin{\\left (x \\right )} + \\cos{\\left (x \\right )}$$"
      ],
      "text/plain": [
       "-sin(x) + cos(x)"
      ]
     },
     "execution_count": 21,
     "metadata": {},
     "output_type": "execute_result"
    }
   ],
   "source": [
    "diff(sin(x)+cos(x), x)"
   ]
  },
  {
   "cell_type": "code",
   "execution_count": 22,
   "metadata": {},
   "outputs": [
    {
     "data": {
      "image/png": "[encoded data removed]",
      "text/latex": [
       "$$e^{x} + \\frac{5}{x}$$"
      ],
      "text/plain": [
       " x   5\n",
       "ℯ  + ─\n",
       "     x"
      ]
     },
     "execution_count": 22,
     "metadata": {},
     "output_type": "execute_result"
    }
   ],
   "source": [
    "diff(5*ln(x)+exp(x), x)"
   ]
  },
  {
   "cell_type": "code",
   "execution_count": 23,
   "metadata": {},
   "outputs": [
    {
     "data": {
      "image/png": "[encoded data removed]",
      "text/latex": [
       "$$12 x^{2} + \\cos{\\left (x \\right )}$$"
      ],
      "text/plain": [
       "    2         \n",
       "12⋅x  + cos(x)"
      ]
     },
     "execution_count": 23,
     "metadata": {},
     "output_type": "execute_result"
    }
   ],
   "source": [
    "diff(4*x**3+sin(x), x)"
   ]
  },
  {
   "cell_type": "markdown",
   "metadata": {},
   "source": [
    "## Quotient Rule of Differentiating: for differentiable functions f and g\n",
    "\n",
    "$$({f\\over{g}})' = {gf'-fg'\\over{g^2}}$$"
   ]
  },
  {
   "cell_type": "code",
   "execution_count": 24,
   "metadata": {},
   "outputs": [
    {
     "data": {
      "image/png": "[encoded data removed]",
      "text/latex": [
       "$$\\frac{2 x + 2}{\\sin{\\left (x \\right )}} - \\frac{\\left(x^{2} + 2 x\\right) \\cos{\\left (x \\right )}}{\\sin^{2}{\\left (x \\right )}}$$"
      ],
      "text/plain": [
       "          ⎛ 2      ⎞       \n",
       "2⋅x + 2   ⎝x  + 2⋅x⎠⋅cos(x)\n",
       "─────── - ─────────────────\n",
       " sin(x)           2        \n",
       "               sin (x)     "
      ]
     },
     "execution_count": 24,
     "metadata": {},
     "output_type": "execute_result"
    }
   ],
   "source": [
    "diff((x**2+2*x)/sin(x))"
   ]
  },
  {
   "cell_type": "code",
   "execution_count": 25,
   "metadata": {},
   "outputs": [
    {
     "data": {
      "image/png": "[encoded data removed]",
      "text/latex": [
       "$$\\frac{7 e^{x} \\sin{\\left (x \\right )}}{4 \\cos^{2}{\\left (x \\right )}} + \\frac{7 e^{x}}{4 \\cos{\\left (x \\right )}}$$"
      ],
      "text/plain": [
       "   x               x  \n",
       "7⋅ℯ ⋅sin(x)     7⋅ℯ   \n",
       "─────────── + ────────\n",
       "      2       4⋅cos(x)\n",
       " 4⋅cos (x)            "
      ]
     },
     "execution_count": 25,
     "metadata": {},
     "output_type": "execute_result"
    }
   ],
   "source": [
    "diff((7*exp(x))/(4*cos(x)))"
   ]
  },
  {
   "cell_type": "code",
   "execution_count": 26,
   "metadata": {},
   "outputs": [
    {
     "data": {
      "image/png": "[encoded data removed]",
      "text/latex": [
       "$$- \\frac{6 x \\left(5 x^{3} - x\\right)}{\\left(3 x^{2} + 2\\right)^{2}} + \\frac{15 x^{2} - 1}{3 x^{2} + 2}$$"
      ],
      "text/plain": [
       "      ⎛   3    ⎞       2    \n",
       "  6⋅x⋅⎝5⋅x  - x⎠   15⋅x  - 1\n",
       "- ────────────── + ─────────\n",
       "             2         2    \n",
       "   ⎛   2    ⎞       3⋅x  + 2\n",
       "   ⎝3⋅x  + 2⎠               "
      ]
     },
     "execution_count": 26,
     "metadata": {},
     "output_type": "execute_result"
    }
   ],
   "source": [
    "diff((5*x**3-x)/(3*x**2+2))"
   ]
  },
  {
   "cell_type": "markdown",
   "metadata": {},
   "source": [
    "## Chain Rule of Differentiating: for differentiable functions f and g\n",
    "\n",
    "$$(f\\circ g)'=(f'\\circ g)\\cdot g'$$\n"
   ]
  },
  {
   "cell_type": "code",
   "execution_count": 27,
   "metadata": {},
   "outputs": [
    {
     "data": {
      "image/png": "[encoded data removed]",
      "text/latex": [
       "$$\\frac{6 x}{3 x^{2} + 1}$$"
      ],
      "text/plain": [
       "  6⋅x   \n",
       "────────\n",
       "   2    \n",
       "3⋅x  + 1"
      ]
     },
     "execution_count": 27,
     "metadata": {},
     "output_type": "execute_result"
    }
   ],
   "source": [
    "diff(ln(3*x**2 + 1))"
   ]
  },
  {
   "cell_type": "code",
   "execution_count": 28,
   "metadata": {},
   "outputs": [
    {
     "data": {
      "image/png": "[encoded data removed]",
      "text/latex": [
       "$$2 x \\cos{\\left (x^{2} \\right )}$$"
      ],
      "text/plain": [
       "       ⎛ 2⎞\n",
       "2⋅x⋅cos⎝x ⎠"
      ]
     },
     "execution_count": 28,
     "metadata": {},
     "output_type": "execute_result"
    }
   ],
   "source": [
    "diff(sin(x**2))"
   ]
  },
  {
   "cell_type": "code",
   "execution_count": 29,
   "metadata": {},
   "outputs": [
    {
     "data": {
      "image/png": "[encoded data removed]",
      "text/latex": [
       "$$- \\frac{\\left(10 x - 3\\right) \\sin{\\left (5 x^{2} - 3 x \\right )}}{\\cos{\\left (5 x^{2} - 3 x \\right )}}$$"
      ],
      "text/plain": [
       "               ⎛   2      ⎞ \n",
       "-(10⋅x - 3)⋅sin⎝5⋅x  - 3⋅x⎠ \n",
       "────────────────────────────\n",
       "         ⎛   2      ⎞       \n",
       "      cos⎝5⋅x  - 3⋅x⎠       "
      ]
     },
     "execution_count": 29,
     "metadata": {},
     "output_type": "execute_result"
    }
   ],
   "source": [
    "diff(ln(cos(5*x**2-3*x)), x)"
   ]
  },
  {
   "cell_type": "code",
   "execution_count": 30,
   "metadata": {},
   "outputs": [
    {
     "data": {
      "image/png": "[encoded data removed]",
      "text/latex": [
       "$$- \\frac{e^{\\sqrt{\\cos{\\left (y \\right )}}} \\sin{\\left (y \\right )}}{2 \\sqrt{\\cos{\\left (y \\right )}}}$$"
      ],
      "text/plain": [
       "    ________        \n",
       "  ╲╱ cos(y)         \n",
       "-ℯ          ⋅sin(y) \n",
       "────────────────────\n",
       "        ________    \n",
       "    2⋅╲╱ cos(y)     "
      ]
     },
     "execution_count": 30,
     "metadata": {},
     "output_type": "execute_result"
    }
   ],
   "source": [
    "diff(exp(sqrt(cos(y))))"
   ]
  },
  {
   "cell_type": "code",
   "execution_count": 31,
   "metadata": {},
   "outputs": [
    {
     "data": {
      "image/png": "[encoded data removed]",
      "text/latex": [
       "$$- 27 \\left(- 3 y + 7\\right)^{8}$$"
      ],
      "text/plain": [
       "              8\n",
       "-27⋅(-3⋅y + 7) "
      ]
     },
     "execution_count": 31,
     "metadata": {},
     "output_type": "execute_result"
    }
   ],
   "source": [
    "diff(((-3*y+7)**9))"
   ]
  },
  {
   "cell_type": "code",
   "execution_count": null,
   "metadata": {},
   "outputs": [],
   "source": []
  }
 ],
 "metadata": {
  "kernelspec": {
   "display_name": "Python 3",
   "language": "python",
   "name": "python3"
  },
  "language_info": {
   "codemirror_mode": {
    "name": "ipython",
    "version": 3
   },
   "file_extension": ".py",
   "mimetype": "text/x-python",
   "name": "python",
   "nbconvert_exporter": "python",
   "pygments_lexer": "ipython3",
   "version": "3.7.2"
  }
 },
 "nbformat": 4,
 "nbformat_minor": 2
}
