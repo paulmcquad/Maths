{
 "cells": [
  {
   "cell_type": "markdown",
   "metadata": {},
   "source": [
    "# Vectors\n",
    "\n",
    "Vectors are built from ordinary\n",
    "numbers, which form the components\n",
    "of the vector. You can think of a vector as a list of numbers, and vector algebra as operations performed on the numbers in the list.\n",
    "\n",
    "-- No Bullshit Guide to Linear Algebra"
   ]
  },
  {
   "cell_type": "markdown",
   "metadata": {},
   "source": [
    "Vector and Matrix in Python | python tutorial\n",
    "\n",
    "https://www.youtube.com/watch?v=8d9v6UEIDqM"
   ]
  },
  {
   "cell_type": "code",
   "execution_count": 21,
   "metadata": {},
   "outputs": [],
   "source": [
    "v = (1,2,3)"
   ]
  },
  {
   "cell_type": "markdown",
   "metadata": {},
   "source": [
    "A = [3,4]\n",
    "\\begin{equation}\n",
    "||A|| = \\sqrt{3^2+4^2} = 5\n",
    "\\end{equation}"
   ]
  },
  {
   "cell_type": "code",
   "execution_count": 9,
   "metadata": {},
   "outputs": [
    {
     "data": {
      "image/png": "[encoded data removed]",
      "text/plain": [
       "<Figure size 432x288 with 1 Axes>"
      ]
     },
     "metadata": {
      "needs_background": "light"
     },
     "output_type": "display_data"
    }
   ],
   "source": [
    "import numpy as np\n",
    "import matplotlib.pyplot as plt # import libs\n",
    "\n",
    "fig = np.array([[0,0,3,4],[0,0,3,1],[0,0,-2,3]]) # Vector to plot\n",
    "X, Y, U, V = zip(*fig)\n",
    "plt.figure()\n",
    "ax = plt.gca()\n",
    "ax.quiver(X, Y, U, V, angles='xy', scale_units='xy',color=['b','g','r'] , scale=1)\n",
    "ax.set_xlim([-3, 5])\n",
    "ax.set_ylim([-2, 5]) # Set x and y (limits) \n",
    "plt.draw()\n",
    "plt.show()"
   ]
  },
  {
   "cell_type": "code",
   "execution_count": 25,
   "metadata": {},
   "outputs": [
    {
     "name": "stdout",
     "output_type": "stream",
     "text": [
      "[ 5  7 12]\n"
     ]
    }
   ],
   "source": [
    "# 3.39\n",
    "v = np.array([2,5,7])\n",
    "b = np.array([3,2,5])\n",
    "\n",
    "print(v + b)"
   ]
  },
  {
   "cell_type": "markdown",
   "metadata": {},
   "source": [
    "# Matrices"
   ]
  },
  {
   "cell_type": "code",
   "execution_count": 26,
   "metadata": {},
   "outputs": [
    {
     "name": "stdout",
     "output_type": "stream",
     "text": [
      "[[1, 4, 5, 12], [-5, 8, 9, 0], [-6, 7, 11, 19]]\n"
     ]
    }
   ],
   "source": [
    "A = [[1,4,5,12],[-5,8,9, 0],[-6,7,11,19]]\n",
    "print(A)"
   ]
  },
  {
   "cell_type": "code",
   "execution_count": 27,
   "metadata": {},
   "outputs": [
    {
     "name": "stdout",
     "output_type": "stream",
     "text": [
      "3rd column [5, 9, 11]\n"
     ]
    }
   ],
   "source": [
    "col = []\n",
    "for row in A:\n",
    "    col.append(row[2])\n",
    "print(\"3rd column\", col)"
   ]
  },
  {
   "cell_type": "code",
   "execution_count": 29,
   "metadata": {},
   "outputs": [
    {
     "name": "stdout",
     "output_type": "stream",
     "text": [
      "Python array:[1, 2, 3, 4, 5, 6, 7, 8, 9]\n",
      "Numpy array:[1 2 3 4 5 6 7 8 9]\n"
     ]
    }
   ],
   "source": [
    "py_array = [1,2,3,4,5,6,7,8,9]\n",
    "np_array = np.array([1,2,3,4,5,6,7,8,9])\n",
    "\n",
    "print(f\"Python array:{py_array}\")\n",
    "print(f\"Numpy array:{np_array}\")"
   ]
  }
 ],
 "metadata": {
  "kernelspec": {
   "display_name": "Python 3",
   "language": "python",
   "name": "python3"
  },
  "language_info": {
   "codemirror_mode": {
    "name": "ipython",
    "version": 3
   },
   "file_extension": ".py",
   "mimetype": "text/x-python",
   "name": "python",
   "nbconvert_exporter": "python",
   "pygments_lexer": "ipython3",
   "version": "3.8.6"
  }
 },
 "nbformat": 4,
 "nbformat_minor": 4
}
