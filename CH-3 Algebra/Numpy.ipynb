{
 "cells": [
  {
   "cell_type": "markdown",
   "metadata": {},
   "source": [
    "# Numpy\n",
    "\n",
    "arange: allows the creation of number's list\n",
    "\n",
    "shape: return the shape of the matrix\n",
    "\n",
    "reshape: change the dimensions of the matrix"
   ]
  },
  {
   "cell_type": "code",
   "execution_count": 2,
   "metadata": {},
   "outputs": [],
   "source": [
    "import numpy as np\n",
    "import math"
   ]
  },
  {
   "cell_type": "code",
   "execution_count": 9,
   "metadata": {},
   "outputs": [],
   "source": [
    "numbers = np.arange(50).reshape(5,10)"
   ]
  },
  {
   "cell_type": "code",
   "execution_count": 16,
   "metadata": {},
   "outputs": [
    {
     "name": "stdout",
     "output_type": "stream",
     "text": [
      "numbers.ndim: 2\n",
      "numbers.shape: (5, 10)\n",
      "numbers.size: 50\n",
      "numbers.dtype: int64\n",
      "numbers.itemsize: 8\n"
     ]
    }
   ],
   "source": [
    "print(f\"numbers.ndim: {numbers.ndim}\")\n",
    "print(f\"numbers.shape: {numbers.shape}\")\n",
    "print(f\"numbers.size: {numbers.size}\")\n",
    "print(f\"numbers.dtype: {numbers.dtype}\")\n",
    "print(f\"numbers.itemsize: {numbers.itemsize}\")"
   ]
  },
  {
   "cell_type": "markdown",
   "metadata": {},
   "source": [
    "Numpy in Python | how numpy can optimize our code\n",
    "\n",
    "6:09\n",
    "\n",
    "https://www.youtube.com/watch?v=0SMefTo5D9c"
   ]
  },
  {
   "cell_type": "code",
   "execution_count": null,
   "metadata": {},
   "outputs": [],
   "source": []
  }
 ],
 "metadata": {
  "kernelspec": {
   "display_name": "Python 3",
   "language": "python",
   "name": "python3"
  },
  "language_info": {
   "codemirror_mode": {
    "name": "ipython",
    "version": 3
   },
   "file_extension": ".py",
   "mimetype": "text/x-python",
   "name": "python",
   "nbconvert_exporter": "python",
   "pygments_lexer": "ipython3",
   "version": "3.8.6"
  }
 },
 "nbformat": 4,
 "nbformat_minor": 4
}
