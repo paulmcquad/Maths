{
 "cells": [
  {
   "cell_type": "code",
   "execution_count": 2,
   "metadata": {},
   "outputs": [
    {
     "data": {
      "image/png": "[encoded data removed]",
      "text/plain": [
       "<Figure size 720x720 with 1 Axes>"
      ]
     },
     "metadata": {
      "needs_background": "light"
     },
     "output_type": "display_data"
    }
   ],
   "source": [
    "import matplotlib.pyplot as plt    # v 1.19.2\n",
    "import numpy as np                 # v 3.3.2\n",
    "\n",
    "# Enter x and y coordinates of points and colors\n",
    "xs = [0, 2, -3, -1.5]\n",
    "ys = [0, 3, 1, -2.5]\n",
    "colors = ['m', 'g', 'r', 'b']\n",
    "\n",
    "# Select length of axes and the space between tick labels\n",
    "xmin, xmax, ymin, ymax = -5, 5, -5, 5\n",
    "ticks_frequency = 1\n",
    "\n",
    "# Plot points\n",
    "fig, ax = plt.subplots(figsize=(10, 10))\n",
    "ax.scatter(xs, ys, c=colors)\n",
    "\n",
    "# Draw lines connecting points to axes\n",
    "[ax.plot([x, x], [0, y], c=c, ls='--', lw=1.5, alpha=0.5) for x, y, c in zip(xs, ys, colors)] \n",
    "[ax.plot([0, x], [y, y], c=c, ls='--', lw=1.5, alpha=0.5) for x, y, c in zip(xs, ys, colors)]\n",
    "\n",
    "# Set identical scales for both axes\n",
    "ax.set(xlim=(xmin-1, xmax+1), ylim=(ymin-1, ymax+1), aspect='equal')\n",
    "\n",
    "# Set bottom and left spines as x and y axes of coordinate system\n",
    "ax.spines['bottom'].set_position('zero')\n",
    "ax.spines['left'].set_position('zero')\n",
    "\n",
    "# Remove top and right spines\n",
    "ax.spines['top'].set_visible(False)\n",
    "ax.spines['right'].set_visible(False)\n",
    "\n",
    "# Create 'x' and 'y' labels placed at the end of the axes\n",
    "ax.set_xlabel('x', size=14, labelpad=15)\n",
    "ax.set_ylabel('y', size=14, labelpad=15, rotation=0)\n",
    "ax.xaxis.set_label_coords(1.03, 0.512)\n",
    "ax.yaxis.set_label_coords(0.5, 1.02)\n",
    "\n",
    "# Create custom major ticks to determine position of tick labels\n",
    "x_ticks = np.arange(xmin, xmax+1, ticks_frequency)\n",
    "x_ticks_major = x_ticks[x_ticks != 0]\n",
    "y_ticks = np.arange(ymin, ymax+1, ticks_frequency)\n",
    "y_ticks_major = y_ticks[y_ticks != 0]\n",
    "ax.set_xticks(x_ticks_major)\n",
    "ax.set_yticks(y_ticks_major)\n",
    "\n",
    "# Create custom minor ticks to enable drawing of minor grid lines\n",
    "ax.set_xticks(np.arange(xmin,xmax+1), minor=True)\n",
    "ax.set_yticks(np.arange(ymin,ymax+1), minor=True)\n",
    "\n",
    "# Draw major and minor grid lines\n",
    "ax.grid(which='both', color='grey', linewidth=1, linestyle='-', alpha=0.2)\n",
    "\n",
    "# Draw arrows\n",
    "ax.plot((1), (0), linestyle='', marker='>', markersize=4, color='black',\n",
    "        transform=ax.get_yaxis_transform(), clip_on=False)\n",
    "ax.plot((0), (1), linestyle='', marker='^', markersize=4, color='black',\n",
    "        transform=ax.get_xaxis_transform(), clip_on=False)\n",
    "\n",
    "plt.show()"
   ]
  },
  {
   "cell_type": "code",
   "execution_count": null,
   "metadata": {},
   "outputs": [],
   "source": []
  }
 ],
 "metadata": {
  "kernelspec": {
   "display_name": "Python 3",
   "language": "python",
   "name": "python3"
  },
  "language_info": {
   "codemirror_mode": {
    "name": "ipython",
    "version": 3
   },
   "file_extension": ".py",
   "mimetype": "text/x-python",
   "name": "python",
   "nbconvert_exporter": "python",
   "pygments_lexer": "ipython3",
   "version": "3.8.6"
  }
 },
 "nbformat": 4,
 "nbformat_minor": 4
}
